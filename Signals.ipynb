{
 "cells": [
  {
   "cell_type": "markdown",
   "metadata": {},
   "source": [
    "# Introduction"
   ]
  },
  {
   "cell_type": "markdown",
   "metadata": {},
   "source": [
    "## SIGNALS"
   ]
  },
  {
   "cell_type": "markdown",
   "metadata": {},
   "source": [
    "SIGNAL ~ datapoints\n",
    "\n",
    "$x(t)$"
   ]
  },
  {
   "cell_type": "markdown",
   "metadata": {},
   "source": [
    "1. **Continuous** / **Analogical**\n",
    "2. **Discrete** (only in time)\n",
    "3. **Digital** (time and amplitude)"
   ]
  },
  {
   "cell_type": "markdown",
   "metadata": {},
   "source": [
    "**Deterministic signal** = Its physical description is all known (mathematical or graphically)\n",
    "\n",
    "**Probabilistic or aleatory signal** = Its values can not be predicted with presicion, only its probabilistic description"
   ]
  },
  {
   "cell_type": "markdown",
   "metadata": {},
   "source": [
    "## SYSTEMS"
   ]
  },
  {
   "cell_type": "markdown",
   "metadata": {},
   "source": [
    "SYSTEM ~ Process inputs $x(t)$ in order to make outputs $y(t)$\n",
    "\n",
    "> $h(t)$ is the impulse response, which explains the whole system"
   ]
  },
  {
   "cell_type": "markdown",
   "metadata": {},
   "source": [
    "$y(t) = x(t) * h(t)$ (convolution)\n",
    "\n",
    "$Y(s) = H(s) X(s)$ "
   ]
  },
  {
   "cell_type": "markdown",
   "metadata": {},
   "source": [
    "**Causal systems:**\n",
    "* Output is not initialized before output\n",
    "* $y(t=t_0)$ only depends on $x(t)$ $\\forall t \\leq t_0$"
   ]
  },
  {
   "cell_type": "markdown",
   "metadata": {},
   "source": [
    "# Filters"
   ]
  },
  {
   "cell_type": "markdown",
   "metadata": {},
   "source": [
    "$H(s) = \\frac{A(s)}{B(s)}$ \n",
    "\n",
    "*Zeros* $\\rightarrow$ Attenuate frequencies ($A(s)=0$)\n",
    "\n",
    "*Poles* $\\rightarrow$ Amplifies frequencies ($B(s)=0$)"
   ]
  },
  {
   "cell_type": "markdown",
   "metadata": {},
   "source": [
    "## Digital Filters"
   ]
  },
  {
   "cell_type": "markdown",
   "metadata": {},
   "source": [
    "Filtering a signal:\n",
    "\n",
    "$y[n] = b_0 x[n] + b_1 x[n-1] + b_2 x[n-2] + ... + b_L x[n-L] - a_1 y[n-1] - a_2 y[n-2] - ... - a_K y[n-k]$\n",
    "\n",
    "Donde\n",
    "* $b_k$: Numerator\n",
    "* $a_k$: Denominator\n",
    "* $x[n]$: Input\n",
    "* $y[n]$: Output\n",
    "\n",
    "\n",
    "Si $a_k = 0$ $\\forall k=1,2,...,K$ $\\rightarrow$ FIR\n",
    "\n",
    "Si $b_k = 0$ $\\forall k=1,2,...,K$ $\\rightarrow$ IIR"
   ]
  },
  {
   "cell_type": "markdown",
   "metadata": {},
   "source": [
    "They are classified as:\n",
    "\n",
    "1. Infinite Impulse Response (IIR)\n",
    "\n",
    "2. Finite Impulse Response (FIR)"
   ]
  }
 ],
 "metadata": {
  "kernelspec": {
   "display_name": "Python 3",
   "language": "python",
   "name": "python3"
  },
  "language_info": {
   "codemirror_mode": {
    "name": "ipython",
    "version": 3
   },
   "file_extension": ".py",
   "mimetype": "text/x-python",
   "name": "python",
   "nbconvert_exporter": "python",
   "pygments_lexer": "ipython3",
   "version": "3.10.12"
  }
 },
 "nbformat": 4,
 "nbformat_minor": 2
}
