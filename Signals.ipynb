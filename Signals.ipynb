{
 "cells": [
  {
   "cell_type": "markdown",
   "metadata": {},
   "source": [
    "# Introduction"
   ]
  },
  {
   "cell_type": "markdown",
   "metadata": {},
   "source": [
    "## SIGNALS"
   ]
  },
  {
   "cell_type": "markdown",
   "metadata": {},
   "source": [
    "SIGNAL ~ datapoints\n",
    "\n",
    "$x(t)$"
   ]
  },
  {
   "cell_type": "markdown",
   "metadata": {},
   "source": [
    "1. **Continuous** / **Analogical**\n",
    "2. **Discrete** (only in time)\n",
    "3. **Digital** (time and amplitude)"
   ]
  },
  {
   "cell_type": "markdown",
   "metadata": {},
   "source": [
    "**Deterministic signal** = Its physical description is all known (mathematical or graphically)\n",
    "\n",
    "**Probabilistic or aleatory signal** = Its values can not be predicted with presicion, only its probabilistic description"
   ]
  },
  {
   "cell_type": "markdown",
   "metadata": {},
   "source": [
    "## SYSTEMS"
   ]
  },
  {
   "cell_type": "markdown",
   "metadata": {},
   "source": [
    "SYSTEM ~ Process inputs $x(t)$ in order to make outputs $y(t)$\n",
    "\n",
    "> $h(t)$ is the impulse response, which explains the whole system"
   ]
  },
  {
   "cell_type": "markdown",
   "metadata": {},
   "source": [
    "$y(t) = x(t) * h(t)$ (convolution)\n",
    "\n",
    "$Y(s) = H(s) X(s)$ "
   ]
  },
  {
   "cell_type": "markdown",
   "metadata": {},
   "source": [
    "**Causal systems:**\n",
    "* Output is not initialized before output\n",
    "* $y(t=t_0)$ only depends on $x(t)$ $\\forall t \\leq t_0$"
   ]
  },
  {
   "cell_type": "markdown",
   "metadata": {},
   "source": [
    "## FILTERS"
   ]
  },
  {
   "cell_type": "markdown",
   "metadata": {},
   "source": [
    "$H(s) = \\frac{A(s)}{B(s)}$ \n",
    "\n",
    "*Ceros* $\\rightarrow$ Se atenúan esas frecuencias ($A(s)=0$)\n",
    "\n",
    "*Polos* $\\rightarrow$ Se amplifican esas frecuencias ($B(s)=0$)"
   ]
  }
 ],
 "metadata": {
  "kernelspec": {
   "display_name": "Python 3",
   "language": "python",
   "name": "python3"
  },
  "language_info": {
   "codemirror_mode": {
    "name": "ipython",
    "version": 3
   },
   "file_extension": ".py",
   "mimetype": "text/x-python",
   "name": "python",
   "nbconvert_exporter": "python",
   "pygments_lexer": "ipython3",
   "version": "3.10.12"
  }
 },
 "nbformat": 4,
 "nbformat_minor": 2
}
