{
 "cells": [
  {
   "cell_type": "markdown",
   "metadata": {},
   "source": [
    "# Introduction to Signals and Systems"
   ]
  },
  {
   "cell_type": "markdown",
   "metadata": {},
   "source": [
    "---"
   ]
  },
  {
   "cell_type": "markdown",
   "metadata": {},
   "source": [
    "## SIGNALS"
   ]
  },
  {
   "cell_type": "markdown",
   "metadata": {},
   "source": [
    "SIGNALS are just datapoints. \n",
    "\n",
    "In electronic terms, a signal is an electromagnetic or electrical time-varying wave carrying information from one system to another. From now on, we are going to represent a signal like: $x(t)$ (Physic magnitude in function of time)\n",
    "\n",
    "There are different types of group signals in different families:\n",
    "\n",
    "1. Depending on the _domain_ of its information:\n",
    "\n",
    "    * **Continuous** / **Analog**: Amplitude and time in continues domain (infinite number of values within that continuous range)\n",
    "    * **Discrete**: Only time domain is a sequence of discrete values\n",
    "    * **Digital**: Time and amplitude data is represented by a set of possible values\n",
    "\n",
    "2. Depending on its _statistics_ information:\n",
    "\n",
    "    * **Deterministic signal**: Its physical description is all known (mathematical or graphically)\n",
    "    * **Probabilistic or aleatory signal**: Its values can not be predicted with presicion, only its probabilistic description"
   ]
  },
  {
   "cell_type": "markdown",
   "metadata": {},
   "source": [
    "### _Properties of signals_"
   ]
  },
  {
   "cell_type": "markdown",
   "metadata": {},
   "source": [
    "1. SHIFTING $x(t+b)$\n",
    "    * Time delay: $b<0$\n",
    "    * Time advance: $b>0$\n",
    "\n",
    "2. SCALING $x(at)$\n",
    "    * Compression: $0<a<1$\n",
    "    * Expansion: $a>1$\n",
    "    * Reverse: $a=-1$\n",
    "\n",
    "3. COMBINATION \n",
    "\n",
    "    $x(at+b)$ = $x(a(t+\\frac{b}{a}))$"
   ]
  },
  {
   "cell_type": "markdown",
   "metadata": {},
   "source": [
    "### _Important signals_"
   ]
  },
  {
   "cell_type": "markdown",
   "metadata": {},
   "source": [
    "1. Unit step"
   ]
  },
  {
   "cell_type": "markdown",
   "metadata": {},
   "source": [
    "$u(t) =  \\begin{cases} 1 & t>0\\\\ 0.5 & t=0\\\\ 0 & t<0 \\end{cases} $"
   ]
  },
  {
   "cell_type": "markdown",
   "metadata": {},
   "source": [
    "<img src=\"figures\\unit_step.png\" alt=\"\" style=\"width:300px;\"/>"
   ]
  },
  {
   "cell_type": "markdown",
   "metadata": {},
   "source": [
    "2. Unit pulse"
   ]
  },
  {
   "cell_type": "markdown",
   "metadata": {},
   "source": [
    "$\\Pi(t) =  \\begin{cases} 1 & |t|<\\frac{1}{2}\\\\ 0 & |t|>\\frac{1}{2}\\\\ \\frac{1}{2} & |t|=\\frac{1}{2} \\end{cases} $"
   ]
  },
  {
   "cell_type": "markdown",
   "metadata": {},
   "source": [
    "<img src=\"figures/unit_pulse.jpg\" alt=\"\" style=\"width:300px;\"/>"
   ]
  },
  {
   "cell_type": "markdown",
   "metadata": {},
   "source": [
    "3. Triangular"
   ]
  },
  {
   "cell_type": "markdown",
   "metadata": {},
   "source": [
    "$\\Lambda(t) =  \\begin{cases} 1-2|t| & |t| \\leq \\frac{1}{2}\\\\ 0 & |t|>\\frac{1}{2} \\end{cases} $"
   ]
  },
  {
   "cell_type": "markdown",
   "metadata": {},
   "source": [
    "<img src=\"figures/triangular.png\" alt=\"\" style=\"width:300px;\"/>"
   ]
  },
  {
   "cell_type": "markdown",
   "metadata": {},
   "source": [
    "4. Dirac Delta or Unit Impulse"
   ]
  },
  {
   "cell_type": "markdown",
   "metadata": {},
   "source": [
    "$\\delta(t) =  \\begin{cases} 0 & \\forall t \\neq 0 \\\\ \\int_{-\\infty}^{+\\infty} \\delta(t) dt = 1 \\end{cases} $"
   ]
  },
  {
   "cell_type": "markdown",
   "metadata": {},
   "source": [
    "<img src=\"figures/delta_dirac.png\" alt=\"\" style=\"width:300px;\"/>"
   ]
  },
  {
   "cell_type": "markdown",
   "metadata": {},
   "source": [
    "5. Sinc"
   ]
  },
  {
   "cell_type": "markdown",
   "metadata": {},
   "source": [
    "$sinc(t) = \\frac{sen(\\pi t)}{\\pi t}$"
   ]
  },
  {
   "cell_type": "markdown",
   "metadata": {},
   "source": [
    "<img src=\"figures/sinc.png\" alt=\"\" style=\"width:300px;\"/>"
   ]
  },
  {
   "cell_type": "markdown",
   "metadata": {},
   "source": [
    "### **Causal signals**"
   ]
  },
  {
   "cell_type": "markdown",
   "metadata": {},
   "source": [
    "Signals are causal if $x(t) = 0$  $\\forall t< 0$,\n",
    "\n",
    "This is important because all practical non-causal signals are physically unrealizable."
   ]
  },
  {
   "cell_type": "markdown",
   "metadata": {},
   "source": [
    "### _Energy of a signal_"
   ]
  },
  {
   "cell_type": "markdown",
   "metadata": {},
   "source": [
    "$E_{x} = \\int_{-\\infty}^{+\\infty} |x(t)|^2 dt$"
   ]
  },
  {
   "cell_type": "markdown",
   "metadata": {},
   "source": [
    "### _Power of signal_"
   ]
  },
  {
   "cell_type": "markdown",
   "metadata": {},
   "source": [
    "$P_x = \\lim_{T\\to\\infty} \\frac{1}{T} \\int_{-\\frac{T}{2}}^{\\frac{T}{2}} |x(t)|^2 dt$"
   ]
  },
  {
   "cell_type": "markdown",
   "metadata": {},
   "source": [
    "---"
   ]
  },
  {
   "cell_type": "markdown",
   "metadata": {},
   "source": [
    "## SYSTEMS"
   ]
  },
  {
   "cell_type": "markdown",
   "metadata": {},
   "source": [
    "A SYSTEM can process inputs $x(t)$ in order to make outputs $y(t)$\n",
    "\n",
    "> $h(t)$ is the impulse response, which explains the whole system"
   ]
  },
  {
   "cell_type": "markdown",
   "metadata": {},
   "source": [
    "$y(t) = x(t) * h(t)$ (convolution)\n",
    "\n",
    "$Y(s) = H(s) X(s)$ "
   ]
  },
  {
   "cell_type": "markdown",
   "metadata": {},
   "source": [
    "### **Causal systems**\n",
    "* Output is not initialized before output\n",
    "* $y(t=t_0)$ only depends on $x(t)$ $\\forall t \\leq t_0$"
   ]
  },
  {
   "cell_type": "markdown",
   "metadata": {},
   "source": [
    "# Filters"
   ]
  },
  {
   "cell_type": "markdown",
   "metadata": {},
   "source": [
    "$H(s) = \\frac{A(s)}{B(s)}$ \n",
    "\n",
    "*Zeros* $\\rightarrow$ Attenuate frequencies ($A(s)=0$)\n",
    "\n",
    "*Poles* $\\rightarrow$ Amplifies frequencies ($B(s)=0$)"
   ]
  },
  {
   "cell_type": "markdown",
   "metadata": {},
   "source": [
    "## Digital Filters"
   ]
  },
  {
   "cell_type": "markdown",
   "metadata": {},
   "source": [
    "Filtering a signal:\n",
    "\n",
    "$y[n] = b_0 x[n] + b_1 x[n-1] + b_2 x[n-2] + ... + b_L x[n-L] - a_1 y[n-1] - a_2 y[n-2] - ... - a_K y[n-k]$\n",
    "\n",
    "Donde\n",
    "* $b_k$: Numerator\n",
    "* $a_k$: Denominator\n",
    "* $x[n]$: Input\n",
    "* $y[n]$: Output\n",
    "\n",
    "\n",
    "Si $a_k = 0$ $\\forall k=1,2,...,K$ $\\rightarrow$ FIR\n",
    "\n",
    "Si $b_k = 0$ $\\forall k=1,2,...,K$ $\\rightarrow$ IIR"
   ]
  },
  {
   "cell_type": "markdown",
   "metadata": {},
   "source": [
    "They are classified as:\n",
    "\n",
    "1. Infinite Impulse Response (IIR)\n",
    "\n",
    "2. Finite Impulse Response (FIR)"
   ]
  }
 ],
 "metadata": {
  "kernelspec": {
   "display_name": "Python 3",
   "language": "python",
   "name": "python3"
  },
  "language_info": {
   "codemirror_mode": {
    "name": "ipython",
    "version": 3
   },
   "file_extension": ".py",
   "mimetype": "text/x-python",
   "name": "python",
   "nbconvert_exporter": "python",
   "pygments_lexer": "ipython3",
   "version": "3.10.11"
  }
 },
 "nbformat": 4,
 "nbformat_minor": 2
}
