{
 "cells": [
  {
   "cell_type": "markdown",
   "metadata": {},
   "source": [
    "# Object Oriented Programming (OOP)"
   ]
  },
  {
   "cell_type": "markdown",
   "metadata": {},
   "source": [
    "In Python, _object-oriented Programming_ (OOPs) is a programming paradigm that uses _objects_ and _classes_ in programming.\n",
    " \n",
    "It aims to implement real-world entities like _inheritance_, _polymorphisms_, _encapsulation_, etc. in the programming.\n",
    "\n",
    "The main concept of OOPs is to **bind the data and the functions that work on that together as a single unit so that no other part of the code can access this data**."
   ]
  },
  {
   "cell_type": "markdown",
   "metadata": {},
   "source": [
    "![](figures\\OOP.gif)"
   ]
  },
  {
   "cell_type": "markdown",
   "metadata": {},
   "source": [
    "# Object"
   ]
  },
  {
   "cell_type": "markdown",
   "metadata": {},
   "source": [
    "An object consists of:\n",
    "\n",
    "* _State:_ It is represented by the **attributes** of an object. It also reflects the properties of an object.\n",
    "* _Behavior:_ It is represented by the **methods** of an object. It also reflects the response of an object to other objects.\n",
    "* _Identity:_ It gives a unique **name** to an object and enables one object to interact with other objects."
   ]
  },
  {
   "cell_type": "markdown",
   "metadata": {},
   "source": [
    "# Class"
   ]
  },
  {
   "cell_type": "markdown",
   "metadata": {},
   "source": [
    "A _class_ is a collection of objects. A class contains the blueprints or the prototype from which the objects are being created. It is a logical entity that contains some attributes and methods. "
   ]
  },
  {
   "cell_type": "markdown",
   "metadata": {},
   "source": [
    "Classes are created by keyword ``class``:"
   ]
  },
  {
   "cell_type": "markdown",
   "metadata": {},
   "source": [
    "```\n",
    "class Dog:\n",
    "    Statements\n",
    "    ...\n",
    "```"
   ]
  },
  {
   "cell_type": "markdown",
   "metadata": {},
   "source": [
    "# Python Objects"
   ]
  },
  {
   "cell_type": "markdown",
   "metadata": {},
   "source": [
    "## `__init__` method"
   ]
  },
  {
   "cell_type": "markdown",
   "metadata": {},
   "source": [
    "It is run as soon as an object of a class is instantiated.\n",
    "\n",
    " The method is useful to do any initialization you want to do with your object."
   ]
  },
  {
   "cell_type": "code",
   "execution_count": 12,
   "metadata": {},
   "outputs": [],
   "source": [
    "class Dog:\n",
    "    # class attribute\n",
    "    specie = \"mammal\"\n",
    " \n",
    "    # Instance attribute\n",
    "    def __init__(self, name):\n",
    "        self.name = name"
   ]
  },
  {
   "cell_type": "markdown",
   "metadata": {},
   "source": [
    "_Class attributes_ are shared by all instances of the class.\n",
    "\n",
    "_Instance attribute_ is used to assign an attribute to each instance of the object."
   ]
  },
  {
   "cell_type": "code",
   "execution_count": 13,
   "metadata": {},
   "outputs": [
    {
     "name": "stdout",
     "output_type": "stream",
     "text": [
      "Wendy is a mammal\n",
      "Chiqui is also a mammal\n",
      "My name is Wendy\n",
      "My name is Chiqui\n"
     ]
    }
   ],
   "source": [
    "# Object instantiation\n",
    "Wendy = Dog(\"Wendy\")\n",
    "Chiqui = Dog(\"Chiqui\")\n",
    " \n",
    "# Accessing class attributes\n",
    "print(f\"Wendy is a {Wendy.specie}\")\n",
    "print(f\"Chiqui is also a {Chiqui.specie}\")\n",
    " \n",
    "# Accessing instance attributes\n",
    "print(f\"My name is {Wendy.name}\")\n",
    "print(f\"My name is {Chiqui.name}\")"
   ]
  },
  {
   "cell_type": "markdown",
   "metadata": {},
   "source": [
    "See that `__init__` takes two parameters: \n",
    "* _self_ (referring to the instance being created)\n",
    "*  _name_ (representing the name of the dog)"
   ]
  },
  {
   "cell_type": "markdown",
   "metadata": {},
   "source": [
    "When we call a method of an object as ``myobject.method(arg1, arg2)``, this is automatically converted by Python into ``MyClass.method(myobject, arg1, arg2)`` – this is all the special _self_ is about."
   ]
  },
  {
   "cell_type": "markdown",
   "metadata": {},
   "source": [
    "Adding more methods and parameters:"
   ]
  },
  {
   "cell_type": "code",
   "execution_count": 15,
   "metadata": {},
   "outputs": [],
   "source": [
    "class Dog:\n",
    "    specie = 'mamal'\n",
    "\n",
    "    def __init__(self, name, age):\n",
    "        self.name = name\n",
    "        self.age = age\n",
    "    \n",
    "    def bark(self):\n",
    "        print(self.name.title() + \" is barking.\")\n",
    "\n",
    "Wendy = Dog('Wendy', 6)\n",
    "Chiqui = Dog('Chiqui', 4)"
   ]
  },
  {
   "cell_type": "code",
   "execution_count": 19,
   "metadata": {},
   "outputs": [
    {
     "name": "stdout",
     "output_type": "stream",
     "text": [
      "Wendy is barking.\n",
      "Chiqui is barking.\n",
      "Wendy is 6 years old.\n"
     ]
    }
   ],
   "source": [
    "Wendy.bark()\n",
    "Chiqui.bark()\n",
    "print(Wendy.name, 'is', Wendy.age, 'years old.')"
   ]
  },
  {
   "cell_type": "markdown",
   "metadata": {},
   "source": [
    "# Inheritance"
   ]
  },
  {
   "cell_type": "markdown",
   "metadata": {},
   "source": [
    "Inheritance is the capability of one class to derive or inherit the properties from another class. The class that derives properties is called the **derived class** or child class and the class from which the properties are being derived is called the **base class** or parent class. The benefits of inheritance are:\n",
    "\n",
    "* It represents real-world relationships well.\n",
    "* It provides the reusability of a code. We don’t have to write the same code again and again. Also, it allows us to add more features to a class without modifying it.\n",
    "* It is transitive in nature, which means that if class B inherits from another class A, then all the subclasses of B would automatically inherit from class A."
   ]
  },
  {
   "cell_type": "markdown",
   "metadata": {},
   "source": [
    "**Types of Inheritance:**\n",
    "\n",
    "1) _Single Inheritance:_ Single-level inheritance enables a derived class to inherit characteristics from a single-parent class.\n",
    "\n",
    "2) _Multilevel Inheritance:_ Multi-level inheritance enables a derived class to inherit properties from an immediate parent class which in turn inherits properties from his parent class. \n",
    "\n",
    "3) _Hierarchical Inheritance:_ Hierarchical-level inheritance enables more than one derived class to inherit properties from a parent class.\n",
    "\n",
    "4) _Multiple Inheritance:_ Multiple-level inheritance enables one derived class to inherit properties from more than one base class."
   ]
  },
  {
   "cell_type": "code",
   "execution_count": 48,
   "metadata": {},
   "outputs": [],
   "source": [
    "# Parent class\n",
    "class Person(object):\n",
    "    # Constructor\n",
    "    def __init__(self, name, idnumber):\n",
    "        self.name = name\n",
    "        self.idnumber = idnumber\n",
    "    \n",
    "    # Instance Method\n",
    "    def who(self):\n",
    "        print(self.name)\n",
    "        print(self.idnumber)\n",
    "\n",
    "    def talk(self):\n",
    "        print(f\"My name is {self.name} and my ID is {self.idnumber}.\")\t\n",
    "     \n",
    "# Child class\n",
    "class Employee(Person):\n",
    "    def __init__(self, name, idnumber, salary, profession):\n",
    "        self.salary = salary\n",
    "        self.profession = profession\n",
    " \n",
    "        # invoking the __init__ of the parent class\n",
    "        Person.__init__(self, name, idnumber)\n",
    "        #or you can do: super().__init__(name, idnumber)\n",
    "                 \n",
    "    def details(self):\n",
    "        print(f\"Name: {self.name}\")\n",
    "        print(f\"ID number: {self.idnumber}\")\n",
    "        print(f\"Profession: {self.profession}\")"
   ]
  },
  {
   "cell_type": "code",
   "execution_count": 45,
   "metadata": {},
   "outputs": [],
   "source": [
    "# Creation of an object variable or an instance\n",
    "melu = Employee(name='Melanie', idnumber=12345678, salary=100000, profession='Designer')"
   ]
  },
  {
   "cell_type": "code",
   "execution_count": 49,
   "metadata": {},
   "outputs": [
    {
     "name": "stdout",
     "output_type": "stream",
     "text": [
      "My name is Melanie and my ID is 12345678.\n",
      "\n",
      "Name: Melanie\n",
      "ID number: 12345678\n",
      "Profession: Designer\n",
      "\n",
      "Melanie\n",
      "12345678\n"
     ]
    }
   ],
   "source": [
    "melu.talk() #Method from Parent class (Person)\n",
    "print()\n",
    "melu.details() #Method from Child class (Employee)\n",
    "print()\n",
    "melu.who() #Method from Parent class (Person"
   ]
  },
  {
   "cell_type": "markdown",
   "metadata": {},
   "source": [
    "### ``super()``"
   ]
  },
  {
   "cell_type": "markdown",
   "metadata": {},
   "source": [
    "The ``super()`` builtin returns a proxy object (temporary object of the superclass) that allows us to access methods of the base class."
   ]
  },
  {
   "cell_type": "code",
   "execution_count": 50,
   "metadata": {},
   "outputs": [
    {
     "name": "stdout",
     "output_type": "stream",
     "text": [
      "Animal Type: Mammal\n",
      "Mammals give birth directly\n",
      "Animal Type: Fishes\n",
      "Fishes give birth by laying eggs\n"
     ]
    }
   ],
   "source": [
    "class Animal(object):\n",
    "  def __init__(self, animal_type):\n",
    "    print('Animal Type:', animal_type)\n",
    "    \n",
    "class Mammal(Animal):\n",
    "  def __init__(self):\n",
    "    super().__init__('Mammal') # call superclass\n",
    "    print('Mammals give birth directly')\n",
    "\n",
    "class Fishes(Animal):\n",
    "  def __init__(self):\n",
    "    super().__init__('Fishes') # call superclass\n",
    "    print('Fishes give birth by laying eggs')\n",
    "    \n",
    "dog = Mammal()\n",
    "shark = Fishes()"
   ]
  },
  {
   "cell_type": "markdown",
   "metadata": {},
   "source": [
    "Another example:"
   ]
  },
  {
   "cell_type": "code",
   "execution_count": 89,
   "metadata": {},
   "outputs": [],
   "source": [
    "# Parent Class\n",
    "class quadrilateral:\n",
    "\tdef __init__(self, lados):\n",
    "\t\tself.lados = lados\n",
    "\t\tself.suma_angulos = 360\n",
    "\n",
    "\tdef perimeter(self):\n",
    "\t\treturn sum(self.lados)\n",
    "\n",
    "# Derivated Class\n",
    "class square(quadrilateral):\n",
    "\tdef __init__(self, lados):\n",
    "\t\tsuper().__init__(lados)\n",
    "\tdef area(self):\n",
    "\t\treturn self.lados[0] * self.lados[1]\n",
    "\t\n",
    "class triangle(quadrilateral):\n",
    "    def __init__(self, lados):\n",
    "        super().__init__(lados)\n",
    "    def area(self):\n",
    "        return (self.lados[0] * self.lados[1]) / 2"
   ]
  },
  {
   "cell_type": "code",
   "execution_count": 92,
   "metadata": {},
   "outputs": [
    {
     "name": "stdout",
     "output_type": "stream",
     "text": [
      "360\n",
      "24\n",
      "32\n"
     ]
    }
   ],
   "source": [
    "c = square(lados=[4,8,4,8])\n",
    "print(c.suma_angulos)\n",
    "print(c.perimeter())\n",
    "print(c.area())"
   ]
  },
  {
   "cell_type": "code",
   "execution_count": 91,
   "metadata": {},
   "outputs": [
    {
     "name": "stdout",
     "output_type": "stream",
     "text": [
      "360\n",
      "12\n",
      "12\n"
     ]
    }
   ],
   "source": [
    "t = square(lados=[3,4,5])\n",
    "print(t.suma_angulos)\n",
    "print(t.perimeter())\n",
    "print(t.area())"
   ]
  },
  {
   "cell_type": "markdown",
   "metadata": {},
   "source": [
    "# Encapsulation"
   ]
  },
  {
   "cell_type": "markdown",
   "metadata": {},
   "source": [
    "Encapsulation is the idea of wrapping data and methods that work on data within one unit. \n",
    "\n",
    "This puts _restrictions_ on accessing variables and methods directly and can prevent the accidental modification of data. To prevent accidental change, an object's variable can only be changed by an object’s method. Those types of variables are known as **private variables**."
   ]
  },
  {
   "cell_type": "markdown",
   "metadata": {},
   "source": [
    "> A class is an example of encapsulation as it encapsulates all the data that is member functions, variables, etc"
   ]
  },
  {
   "cell_type": "markdown",
   "metadata": {},
   "source": [
    "**Protected members**"
   ]
  },
  {
   "cell_type": "markdown",
   "metadata": {},
   "source": [
    "Protected members are those **members of the class that cannot be accessed outside the class but can be accessed from within the class and its subclasses**. To accomplish this in Python, there is a convention by prefixing the name of the member by a single *underscore* `_`.\n",
    "\n",
    "Leading this *underscore* before variable/function/method name indicates to the programmer that **it is for internal use only**, that can be modified whenever the class wants. Here name prefix by an underscore is treated as non-public. \n",
    "\n",
    "If specify from `import *`, all the names starting with `_` will not import. "
   ]
  },
  {
   "cell_type": "code",
   "execution_count": 51,
   "metadata": {},
   "outputs": [
    {
     "name": "stdout",
     "output_type": "stream",
     "text": [
      "10\n",
      "12\n"
     ]
    }
   ],
   "source": [
    "class Prefix:\n",
    "    def __init__(self):\n",
    "        self.public = 10\n",
    "        self._protected = 12\n",
    "\n",
    "test = Prefix()\n",
    " \n",
    "print(test.public)\n",
    "print(test._protected) # I shouldn't be doing this because the programmer told me that this variable is \"protected\""
   ]
  },
  {
   "cell_type": "markdown",
   "metadata": {},
   "source": [
    "**Private members**"
   ]
  },
  {
   "cell_type": "markdown",
   "metadata": {},
   "source": [
    "Private members are similar to protected members, the difference is that **the class members declared private should neither be accessed outside the class nor by any base class**. In Python, there is no existence of Private instance variables that cannot be accessed except inside a class. To accomplish this, there is a convention by prefixing the name of the member by a double underscore `__`."
   ]
  },
  {
   "cell_type": "markdown",
   "metadata": {},
   "source": [
    "The leading double underscore tells the Python interpreter to rewrite the name in order to avoid conflict in a subclass. Interpreter changes variable name with class extension and that feature known as the **mangling**. \n",
    "\n",
    "In Python, mangling is used for class attributes that one does not want subclasses to use which are designated as such by giving them a name with two or more leading underscores and no more than one trailing underscore."
   ]
  },
  {
   "cell_type": "code",
   "execution_count": 54,
   "metadata": {},
   "outputs": [],
   "source": [
    "class Myclass():\n",
    "    def __init__(self):\n",
    "        self.__variable = 123"
   ]
  },
  {
   "cell_type": "code",
   "execution_count": 56,
   "metadata": {},
   "outputs": [
    {
     "ename": "AttributeError",
     "evalue": "'Myclass' object has no attribute '__variable'",
     "output_type": "error",
     "traceback": [
      "\u001b[1;31m---------------------------------------------------------------------------\u001b[0m",
      "\u001b[1;31mAttributeError\u001b[0m                            Traceback (most recent call last)",
      "Cell \u001b[1;32mIn[56], line 2\u001b[0m\n\u001b[0;32m      1\u001b[0m obj \u001b[38;5;241m=\u001b[39m Myclass()\n\u001b[1;32m----> 2\u001b[0m \u001b[43mobj\u001b[49m\u001b[38;5;241;43m.\u001b[39;49m\u001b[43m__variable\u001b[49m \u001b[38;5;66;03m# Accesing to a private variable\u001b[39;00m\n",
      "\u001b[1;31mAttributeError\u001b[0m: 'Myclass' object has no attribute '__variable'"
     ]
    }
   ],
   "source": [
    "obj = Myclass()\n",
    "obj.__variable # Accesing to a private variable"
   ]
  },
  {
   "cell_type": "code",
   "execution_count": 55,
   "metadata": {},
   "outputs": [
    {
     "data": {
      "text/plain": [
       "123"
      ]
     },
     "execution_count": 55,
     "metadata": {},
     "output_type": "execute_result"
    }
   ],
   "source": [
    "obj = Myclass()\n",
    "obj._Myclass__variable # Accesing to a private variable in a correct form to see it"
   ]
  },
  {
   "cell_type": "markdown",
   "metadata": {},
   "source": [
    "The Python interpreter modifies the variable name with `___` so multiple times it uses as a private member, because another class can not access that variable directly. \n",
    "\n",
    "The main purpose for `__` is to use variable/method in class only. If you want to use it outside of the class, you can make it public."
   ]
  },
  {
   "cell_type": "code",
   "execution_count": 61,
   "metadata": {},
   "outputs": [],
   "source": [
    "class Myclass():\n",
    "    def __init__(self):\n",
    "        self.__variable = 10\n",
    " \n",
    "    def func(self):\n",
    "        return self.__variable\n",
    "\n",
    "obj = Myclass()"
   ]
  },
  {
   "cell_type": "code",
   "execution_count": 62,
   "metadata": {},
   "outputs": [
    {
     "ename": "AttributeError",
     "evalue": "'Myclass' object has no attribute '__variable'",
     "output_type": "error",
     "traceback": [
      "\u001b[1;31m---------------------------------------------------------------------------\u001b[0m",
      "\u001b[1;31mAttributeError\u001b[0m                            Traceback (most recent call last)",
      "Cell \u001b[1;32mIn[62], line 1\u001b[0m\n\u001b[1;32m----> 1\u001b[0m \u001b[43mobj\u001b[49m\u001b[38;5;241;43m.\u001b[39;49m\u001b[43m__variable\u001b[49m\n",
      "\u001b[1;31mAttributeError\u001b[0m: 'Myclass' object has no attribute '__variable'"
     ]
    }
   ],
   "source": [
    "obj.__variable"
   ]
  },
  {
   "cell_type": "code",
   "execution_count": 63,
   "metadata": {},
   "outputs": [
    {
     "data": {
      "text/plain": [
       "10"
      ]
     },
     "execution_count": 63,
     "metadata": {},
     "output_type": "execute_result"
    }
   ],
   "source": [
    "obj.func()"
   ]
  },
  {
   "cell_type": "code",
   "execution_count": 64,
   "metadata": {},
   "outputs": [
    {
     "data": {
      "text/plain": [
       "10"
      ]
     },
     "execution_count": 64,
     "metadata": {},
     "output_type": "execute_result"
    }
   ],
   "source": [
    "obj._Myclass__variable"
   ]
  },
  {
   "cell_type": "markdown",
   "metadata": {},
   "source": [
    "# Abstraction"
   ]
  },
  {
   "cell_type": "markdown",
   "metadata": {},
   "source": [
    "It is an OOP concept that explains how much detail is expected in an object when defining methods and attributes.\n",
    "\n",
    "Depending on who is going to use my object, the level of abstraction I choose will be different."
   ]
  },
  {
   "cell_type": "markdown",
   "metadata": {},
   "source": [
    " Its main goal is to handle complexity by hiding unnecessary details from the user. That enables the user to implement more complex logic on top of the provided abstraction without understanding or even thinking about all the hidden complexity."
   ]
  },
  {
   "cell_type": "markdown",
   "metadata": {},
   "source": [
    "# Polymorphism"
   ]
  },
  {
   "cell_type": "markdown",
   "metadata": {},
   "source": [
    "In programming, polymorphism means the same function name (but different signatures) being used for different types. The key difference is the data types and number of arguments used in function. It is the characteristic of objects that allows a method to be implemented several times with different functionality each time\n",
    "\n",
    "Simply means having many forms."
   ]
  },
  {
   "cell_type": "code",
   "execution_count": 86,
   "metadata": {},
   "outputs": [],
   "source": [
    "class Country:\n",
    "    def __init__(self, name, capital, language, kind):\n",
    "        self.name = name\n",
    "        self.capital = capital\n",
    "        self.language = language\n",
    "        self.kind = kind\n",
    "\n",
    "    def get_capital(self):\n",
    "        print(\"The capital of {} is {}.\".format(self.name, self.capital))\n",
    "\n",
    "    def get_language(self):\n",
    "        print(\"The most spoken language in {} is {}.\".format(self.name, self.language))\n",
    "\n",
    "    def get_kind(self):\n",
    "        print(\"The kind of country that {} is {}.\".format(self.name, self.kind))\n",
    "\n",
    "class Argentina(Country):\n",
    "    def __init__(self):\n",
    "        super().__init__('Argentina', 'Buenos Aires', 'Spanish', 'Developing')\n",
    "\n",
    "class Spain(Country):\n",
    "    def __init__(self):\n",
    "        super().__init__('Spain', 'Madrid', 'Spanish', 'Developed')"
   ]
  },
  {
   "cell_type": "code",
   "execution_count": 87,
   "metadata": {},
   "outputs": [
    {
     "name": "stdout",
     "output_type": "stream",
     "text": [
      "The capital of Argentina is Buenos Aires.\n",
      "The most spoken language in Argentina is Spanish.\n",
      "The kind of country that Argentina is Developing.\n",
      "\n",
      "The capital of Spain is Madrid.\n",
      "The most spoken language in Spain is Spanish.\n",
      "The kind of country that Spain is Developed.\n",
      "\n"
     ]
    }
   ],
   "source": [
    "arg = Argentina()\n",
    "spa = Spain()\n",
    "\n",
    "for country in (arg, spa):\n",
    "    country.get_capital()\n",
    "    country.get_language()\n",
    "    country.get_kind()\n",
    "    print()"
   ]
  },
  {
   "cell_type": "markdown",
   "metadata": {},
   "source": [
    "This code demonstrates the concept of inheritance and method overriding in Python classes. It shows how subclasses can override methods defined in their parent class to provide specific behavior while still inheriting other methods from the parent class."
   ]
  },
  {
   "cell_type": "markdown",
   "metadata": {},
   "source": [
    "In Python, ***Polymorphism*** lets us define methods in the child class that have the same name as the methods in the parent class. In ***Inheritance***, the child class inherits the methods from the parent class. However, it is possible to modify a method in a child class that it has inherited from the parent class. This is particularly useful in cases where the method inherited from the parent class doesn’t quite fit the child class. In such cases, we re-implement the method in the child class. This process of re-implementing a method in the child class is known as **Method Overriding**.  "
   ]
  },
  {
   "cell_type": "code",
   "execution_count": 88,
   "metadata": {},
   "outputs": [
    {
     "name": "stdout",
     "output_type": "stream",
     "text": [
      "There are many types of birds.\n",
      "Most of the birds can fly but some cannot.\n",
      "There are many types of birds.\n",
      "Sparrows can fly.\n",
      "There are many types of birds.\n",
      "Ostriches cannot fly.\n"
     ]
    }
   ],
   "source": [
    "class Bird:\n",
    "  def intro(self):\n",
    "    print(\"There are many types of birds.\")\n",
    "     \n",
    "  def flight(self):\n",
    "    print(\"Most of the birds can fly but some cannot.\")\n",
    "   \n",
    "class sparrow(Bird):\n",
    "  def flight(self):\n",
    "    print(\"Sparrows can fly.\")\n",
    "     \n",
    "class ostrich(Bird):\n",
    "  def flight(self):\n",
    "    print(\"Ostriches cannot fly.\")\n",
    "     \n",
    "obj_bird = Bird()\n",
    "obj_spr = sparrow()\n",
    "obj_ost = ostrich()\n",
    " \n",
    "obj_bird.intro()\n",
    "obj_bird.flight()\n",
    " \n",
    "obj_spr.intro()\n",
    "obj_spr.flight()\n",
    " \n",
    "obj_ost.intro()\n",
    "obj_ost.flight()"
   ]
  },
  {
   "cell_type": "markdown",
   "metadata": {},
   "source": [
    "It is also possible to create a function that can take any object, allowing for polymorphism.\n",
    "\n",
    "For example, you can create a function called `func()` which will take an object and call the three methods, `capital()`, `language()` and `type()`, each of which is defined in the two classes 'Argentina' and 'Spain'. Next, let’s create instantiations of both classes if we don’t have them already. With those, we can call their action using the same `func()` function: "
   ]
  },
  {
   "cell_type": "code",
   "execution_count": 91,
   "metadata": {},
   "outputs": [],
   "source": [
    "class Argentina():\n",
    "    def capital(self):\n",
    "        print(\"Buenos Aires is the capital of India.\")\n",
    "  \n",
    "    def language(self):\n",
    "        print(\"Spanish is the most widely spoken language of Argentina.\")\n",
    "  \n",
    "    def type(self):\n",
    "        print(\"Argentina is a developing country.\")\n",
    "  \n",
    "class Spain():\n",
    "    def capital(self):\n",
    "        print(\"Madrid. is the capital of Spain.\")\n",
    "  \n",
    "    def language(self):\n",
    "        print(\"Spanish is the primary language of Spain.\")\n",
    "  \n",
    "    def type(self):\n",
    "        print(\"Spain is a developed country.\")\n",
    "\n",
    "# \n",
    "def func(obj):\n",
    "    obj.capital()\n",
    "    obj.language()\n",
    "    obj.type()\n",
    "  \n",
    "arg = Argentina()\n",
    "spa = Spain()"
   ]
  },
  {
   "cell_type": "code",
   "execution_count": 92,
   "metadata": {},
   "outputs": [
    {
     "name": "stdout",
     "output_type": "stream",
     "text": [
      "Buenos Aires is the capital of India.\n",
      "Spanish is the most widely spoken language of Argentina.\n",
      "Argentina is a developing country.\n",
      "Madrid. is the capital of Spain.\n",
      "Spanish is the primary language of Spain.\n",
      "Spain is a developed country.\n"
     ]
    }
   ],
   "source": [
    "func(arg)\n",
    "func(spa)"
   ]
  },
  {
   "cell_type": "markdown",
   "metadata": {},
   "source": [
    "The next example is about polymorphism in Python using inheritance and method overriding:"
   ]
  },
  {
   "cell_type": "code",
   "execution_count": 93,
   "metadata": {},
   "outputs": [
    {
     "name": "stdout",
     "output_type": "stream",
     "text": [
      "Woof!\n",
      "Meow!\n"
     ]
    }
   ],
   "source": [
    "class Animal:\n",
    "    def speak(self):\n",
    "        raise NotImplementedError(\"Subclass must implement this method\")\n",
    " \n",
    "class Dog(Animal):\n",
    "    def speak(self):\n",
    "        return \"Woof!\"\n",
    " \n",
    "class Cat(Animal):\n",
    "    def speak(self):\n",
    "        return \"Meow!\"\n",
    " \n",
    "# Call the speak method on each object\n",
    "for animal in [Dog(), Cat()]:\n",
    "    print(animal.speak())"
   ]
  },
  {
   "cell_type": "code",
   "execution_count": 99,
   "metadata": {},
   "outputs": [
    {
     "name": "stdout",
     "output_type": "stream",
     "text": [
      "Woof!\n",
      "Meow!\n"
     ]
    },
    {
     "ename": "NotImplementedError",
     "evalue": "Subclass must implement this method",
     "output_type": "error",
     "traceback": [
      "\u001b[1;31m---------------------------------------------------------------------------\u001b[0m",
      "\u001b[1;31mNotImplementedError\u001b[0m                       Traceback (most recent call last)",
      "Cell \u001b[1;32mIn[99], line 5\u001b[0m\n\u001b[0;32m      2\u001b[0m     \u001b[38;5;28;01mpass\u001b[39;00m\n\u001b[0;32m      4\u001b[0m \u001b[38;5;28;01mfor\u001b[39;00m animal \u001b[38;5;129;01min\u001b[39;00m [Dog(), Cat(), Snake()]:\n\u001b[1;32m----> 5\u001b[0m     \u001b[38;5;28mprint\u001b[39m(\u001b[43manimal\u001b[49m\u001b[38;5;241;43m.\u001b[39;49m\u001b[43mspeak\u001b[49m\u001b[43m(\u001b[49m\u001b[43m)\u001b[49m)\n",
      "Cell \u001b[1;32mIn[93], line 3\u001b[0m, in \u001b[0;36mAnimal.speak\u001b[1;34m(self)\u001b[0m\n\u001b[0;32m      2\u001b[0m \u001b[38;5;28;01mdef\u001b[39;00m \u001b[38;5;21mspeak\u001b[39m(\u001b[38;5;28mself\u001b[39m):\n\u001b[1;32m----> 3\u001b[0m     \u001b[38;5;28;01mraise\u001b[39;00m \u001b[38;5;167;01mNotImplementedError\u001b[39;00m(\u001b[38;5;124m\"\u001b[39m\u001b[38;5;124mSubclass must implement this method\u001b[39m\u001b[38;5;124m\"\u001b[39m)\n",
      "\u001b[1;31mNotImplementedError\u001b[0m: Subclass must implement this method"
     ]
    }
   ],
   "source": [
    "class Snake(Animal):\n",
    "    pass\n",
    "\n",
    "for animal in [Dog(), Cat(), Snake()]:\n",
    "    print(animal.speak())"
   ]
  },
  {
   "cell_type": "markdown",
   "metadata": {},
   "source": [
    "# Operator Overloading in Python"
   ]
  },
  {
   "cell_type": "markdown",
   "metadata": {},
   "source": [
    "In Python, we can change the way operators work for user-defined types. For example, the `+` operator will perform arithmetic addition on two numbers, merge two lists, or concatenate two strings.\n",
    "\n",
    "This feature in Python that allows the same operator to have different meaning according to the context is called **operator overloading**."
   ]
  },
  {
   "cell_type": "markdown",
   "metadata": {},
   "source": [
    "Class functions that begin with double underscore `__` are called _special functions_ in Python. \n",
    "The special functions are defined by the Python interpreter and used to implement certain features or behaviors.\n",
    "\n",
    "They are called \"_double underscore_\" functions because they have a double underscore prefix and suffix, such as `__init__()` or `__add__()`."
   ]
  },
  {
   "cell_type": "code",
   "execution_count": null,
   "metadata": {},
   "outputs": [],
   "source": [
    "class Person:\n",
    "    def __init__(self, name, age):\n",
    "        self.name = name\n",
    "        self.age = age\n",
    "\n",
    "    # overload < operator\n",
    "    def __lt__(self, other):\n",
    "        return self.age < other.age\n",
    "\n",
    "p1 = Person(\"Alice\", 20)\n",
    "p2 = Person(\"Bob\", 30)\n",
    "\n",
    "print(p1 < p2)  # prints True\n",
    "print(p2 < p1)  # prints False"
   ]
  },
  {
   "cell_type": "markdown",
   "metadata": {},
   "source": [
    "`__new__` Create a new instance of the class (*it is not necessary to declare it!*)\n",
    "\n",
    "`__init__` Inicialize attributes; it is called immediately the object was created\n",
    "\n",
    "`__del__` It is called when the class is about to be destroyed\n",
    "\n",
    "`__bytes__` Byte-string representation of an object\n",
    "\n",
    "`__format__` Produce a formatted-string representation of an object\n",
    "\n",
    "`__str__` String representation of the object (informal, *user*) **(*)**\n",
    "\n",
    "`__repr__` String representation of the object(formal, *programmer*) **(*)**\n",
    "\n",
    "`__add__(self, other)` For command `+`\n",
    "\n",
    "`__sub__(self, other)` For command `-`\n",
    "\n",
    "`__mul__(self, other)` For command `*`\n",
    "\n",
    "`__truediv__(self, other)` For command `/`\n",
    "\n",
    "`__floordiv__(self, other)` For command `//`\n",
    "\n",
    "`__mod__(self, other)` For command `%`\n",
    "\n",
    "`__pow__(self, other)` For command `**`\n",
    "\n",
    "`__and__(self, other)` For command `&`\n",
    "\n",
    "`__or__(self, other)` For command `|`\n",
    "\n",
    "`__xor__(self, other)` For command `^`\n",
    "\n",
    "`__lt__(self, other)` For command `<`\n",
    "\n",
    "`__le__(self, other)` For command `<=`\n",
    "\n",
    "`__eq__(self, other)` For command `==`\n",
    "\n",
    "`__ne__(self, other)` For command `!=`\n",
    "\n",
    "`__gt__(self, other)` For command `>`\n",
    "\n",
    "`__ge__(self, other)` For command `>=`\n",
    "\n",
    "`__isub__(self, other)` For command `-=`\n",
    "\n",
    "`__iadd__(self, other)` For command `+=`\n",
    "\n",
    "`__imul__(self, other)` For command `*=`\n",
    "\n",
    "`__idiv__(self, other)` For command `/=`\n",
    "\n",
    "`__ifloordiv__(self, other)` For command `//=`\n",
    "\n",
    "`__imod__(self, other)` For command `%=`\n",
    "\n",
    "`__ipow__(self, other)` For command `**=`\n",
    "\n",
    "`__irshift__(self, other)` For command `>>=`\n",
    "\n",
    "`__ilshift__(self, other)` For command `<<=` \n",
    "\n",
    "`__iand__(self, other)` For command `&=`\n",
    "\n",
    "`__ior__(self, other)` For command `|=`\n",
    "\n",
    "`__ixor__(self, other)` For command `^=`\n",
    "\n",
    "`__neg__(self)` For command `-`\n",
    "\n",
    "`__pos__(self)` For command `+`\n",
    "\n",
    "`__invert__(self)` For command `~`\n",
    "\n",
    "`__bool__` In order to implement true value test and `bool()`\n",
    "\n",
    "`__len__` In order to implement `len()`\n",
    "\n",
    "`__call__` Call objects of the class as a function"
   ]
  },
  {
   "cell_type": "markdown",
   "metadata": {},
   "source": [
    "> **Difference between `__str__` and `__repr__` (*)**  \n",
    "\n",
    "```\n",
    ">> import datetime\n",
    ">> today = datetime.datetime.now()\n",
    "\n",
    ">> today #__repr__\n",
    ">> datetime.datetime(2023, 2, 18, 18, 40, 2, 160890)\n",
    "\n",
    ">> print(today) #__str__\n",
    "\n",
    "2023-02-18 18:40:02.160890\n",
    "\n",
    "# To see the constructor, run: \"today.__repr__()\" or \"today.__str__()\"\n",
    "# More info in https://realpython.com/python-repr-vs-str/\n",
    "```"
   ]
  }
 ],
 "metadata": {
  "kernelspec": {
   "display_name": "Python 3",
   "language": "python",
   "name": "python3"
  },
  "language_info": {
   "codemirror_mode": {
    "name": "ipython",
    "version": 3
   },
   "file_extension": ".py",
   "mimetype": "text/x-python",
   "name": "python",
   "nbconvert_exporter": "python",
   "pygments_lexer": "ipython3",
   "version": "3.9.13"
  }
 },
 "nbformat": 4,
 "nbformat_minor": 2
}
