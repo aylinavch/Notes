{
 "cells": [
  {
   "cell_type": "markdown",
   "metadata": {},
   "source": [
    "# Object Oriented Programming (OOP)"
   ]
  },
  {
   "cell_type": "markdown",
   "metadata": {},
   "source": [
    "In Python, _object-oriented Programming_ (OOPs) is a programming paradigm that uses _objects_ and _classes_ in programming.\n",
    " \n",
    "It aims to implement real-world entities like _inheritance_, _polymorphisms_, _encapsulation_, etc. in the programming.\n",
    "\n",
    "The main concept of OOPs is to **bind the data and the functions that work on that together as a single unit so that no other part of the code can access this data**."
   ]
  },
  {
   "cell_type": "markdown",
   "metadata": {},
   "source": [
    "![](figures\\OOP.gif)"
   ]
  },
  {
   "cell_type": "markdown",
   "metadata": {},
   "source": [
    "# Object"
   ]
  },
  {
   "cell_type": "markdown",
   "metadata": {},
   "source": [
    "An object consists of:\n",
    "\n",
    "* _State:_ It is represented by the **attributes** of an object. It also reflects the properties of an object.\n",
    "* _Behavior:_ It is represented by the **methods** of an object. It also reflects the response of an object to other objects.\n",
    "* _Identity:_ It gives a unique **name** to an object and enables one object to interact with other objects."
   ]
  },
  {
   "cell_type": "markdown",
   "metadata": {},
   "source": [
    "# Class"
   ]
  },
  {
   "cell_type": "markdown",
   "metadata": {},
   "source": [
    "A _class_ is a collection of objects. A class contains the blueprints or the prototype from which the objects are being created. It is a logical entity that contains some attributes and methods. "
   ]
  },
  {
   "cell_type": "markdown",
   "metadata": {},
   "source": [
    "Classes are created by keyword ``class``:"
   ]
  },
  {
   "cell_type": "markdown",
   "metadata": {},
   "source": [
    "```\n",
    "class Dog:\n",
    "    Statements\n",
    "    ...\n",
    "```"
   ]
  },
  {
   "cell_type": "markdown",
   "metadata": {},
   "source": [
    "# Python Objects"
   ]
  },
  {
   "cell_type": "markdown",
   "metadata": {},
   "source": [
    "## `__init__` method"
   ]
  },
  {
   "cell_type": "markdown",
   "metadata": {},
   "source": [
    "It is run as soon as an object of a class is instantiated.\n",
    "\n",
    " The method is useful to do any initialization you want to do with your object."
   ]
  },
  {
   "cell_type": "code",
   "execution_count": 12,
   "metadata": {},
   "outputs": [],
   "source": [
    "class Dog:\n",
    "    # class attribute\n",
    "    specie = \"mammal\"\n",
    " \n",
    "    # Instance attribute\n",
    "    def __init__(self, name):\n",
    "        self.name = name"
   ]
  },
  {
   "cell_type": "markdown",
   "metadata": {},
   "source": [
    "_Class attributes_ are shared by all instances of the class.\n",
    "\n",
    "_Instance attribute_ is used to assign an attribute to each instance of the object."
   ]
  },
  {
   "cell_type": "code",
   "execution_count": 13,
   "metadata": {},
   "outputs": [
    {
     "name": "stdout",
     "output_type": "stream",
     "text": [
      "Wendy is a mammal\n",
      "Chiqui is also a mammal\n",
      "My name is Wendy\n",
      "My name is Chiqui\n"
     ]
    }
   ],
   "source": [
    "# Object instantiation\n",
    "Wendy = Dog(\"Wendy\")\n",
    "Chiqui = Dog(\"Chiqui\")\n",
    " \n",
    "# Accessing class attributes\n",
    "print(f\"Wendy is a {Wendy.specie}\")\n",
    "print(f\"Chiqui is also a {Chiqui.specie}\")\n",
    " \n",
    "# Accessing instance attributes\n",
    "print(f\"My name is {Wendy.name}\")\n",
    "print(f\"My name is {Chiqui.name}\")"
   ]
  },
  {
   "cell_type": "markdown",
   "metadata": {},
   "source": [
    "See that `__init__` takes two parameters: \n",
    "* _self_ (referring to the instance being created)\n",
    "*  _name_ (representing the name of the dog)"
   ]
  },
  {
   "cell_type": "markdown",
   "metadata": {},
   "source": [
    "When we call a method of an object as ``myobject.method(arg1, arg2)``, this is automatically converted by Python into ``MyClass.method(myobject, arg1, arg2)`` – this is all the special _self_ is about."
   ]
  },
  {
   "cell_type": "markdown",
   "metadata": {},
   "source": [
    "Adding more methods and parameters:"
   ]
  },
  {
   "cell_type": "code",
   "execution_count": 15,
   "metadata": {},
   "outputs": [],
   "source": [
    "class Dog:\n",
    "    specie = 'mamal'\n",
    "\n",
    "    def __init__(self, name, age):\n",
    "        self.name = name\n",
    "        self.age = age\n",
    "    \n",
    "    def bark(self):\n",
    "        print(self.name.title() + \" is barking.\")\n",
    "\n",
    "Wendy = Dog('Wendy', 6)\n",
    "Chiqui = Dog('Chiqui', 4)"
   ]
  },
  {
   "cell_type": "code",
   "execution_count": 19,
   "metadata": {},
   "outputs": [
    {
     "name": "stdout",
     "output_type": "stream",
     "text": [
      "Wendy is barking.\n",
      "Chiqui is barking.\n",
      "Wendy is 6 years old.\n"
     ]
    }
   ],
   "source": [
    "Wendy.bark()\n",
    "Chiqui.bark()\n",
    "print(Wendy.name, 'is', Wendy.age, 'years old.')"
   ]
  },
  {
   "cell_type": "markdown",
   "metadata": {},
   "source": [
    "# Inheritance"
   ]
  },
  {
   "cell_type": "markdown",
   "metadata": {},
   "source": [
    "Inheritance is the capability of one class to derive or inherit the properties from another class. The class that derives properties is called the **derived class** or child class and the class from which the properties are being derived is called the **base class** or parent class. The benefits of inheritance are:\n",
    "\n",
    "* It represents real-world relationships well.\n",
    "* It provides the reusability of a code. We don’t have to write the same code again and again. Also, it allows us to add more features to a class without modifying it.\n",
    "* It is transitive in nature, which means that if class B inherits from another class A, then all the subclasses of B would automatically inherit from class A."
   ]
  },
  {
   "cell_type": "markdown",
   "metadata": {},
   "source": [
    "**Types of Inheritance:**\n",
    "\n",
    "1) _Single Inheritance:_ Single-level inheritance enables a derived class to inherit characteristics from a single-parent class.\n",
    "\n",
    "2) _Multilevel Inheritance:_ Multi-level inheritance enables a derived class to inherit properties from an immediate parent class which in turn inherits properties from his parent class. \n",
    "\n",
    "3) _Hierarchical Inheritance:_ Hierarchical-level inheritance enables more than one derived class to inherit properties from a parent class.\n",
    "\n",
    "4) _Multiple Inheritance:_ Multiple-level inheritance enables one derived class to inherit properties from more than one base class."
   ]
  },
  {
   "cell_type": "code",
   "execution_count": 48,
   "metadata": {},
   "outputs": [],
   "source": [
    "# Parent class\n",
    "class Person(object):\n",
    "    # Constructor\n",
    "    def __init__(self, name, idnumber):\n",
    "        self.name = name\n",
    "        self.idnumber = idnumber\n",
    "    \n",
    "    # Instance Method\n",
    "    def who(self):\n",
    "        print(self.name)\n",
    "        print(self.idnumber)\n",
    "\n",
    "    def talk(self):\n",
    "        print(f\"My name is {self.name} and my ID is {self.idnumber}.\")\t\n",
    "     \n",
    "# Child class\n",
    "class Employee(Person):\n",
    "    def __init__(self, name, idnumber, salary, profession):\n",
    "        self.salary = salary\n",
    "        self.profession = profession\n",
    " \n",
    "        # invoking the __init__ of the parent class\n",
    "        Person.__init__(self, name, idnumber)\n",
    "        #or you can do: super().__init__(name, idnumber)\n",
    "                 \n",
    "    def details(self):\n",
    "        print(f\"Name: {self.name}\")\n",
    "        print(f\"ID number: {self.idnumber}\")\n",
    "        print(f\"Profession: {self.profession}\")"
   ]
  },
  {
   "cell_type": "code",
   "execution_count": 45,
   "metadata": {},
   "outputs": [],
   "source": [
    "# Creation of an object variable or an instance\n",
    "melu = Employee(name='Melanie', idnumber=12345678, salary=100000, profession='Designer')"
   ]
  },
  {
   "cell_type": "code",
   "execution_count": 49,
   "metadata": {},
   "outputs": [
    {
     "name": "stdout",
     "output_type": "stream",
     "text": [
      "My name is Melanie and my ID is 12345678.\n",
      "\n",
      "Name: Melanie\n",
      "ID number: 12345678\n",
      "Profession: Designer\n",
      "\n",
      "Melanie\n",
      "12345678\n"
     ]
    }
   ],
   "source": [
    "melu.talk() #Method from Parent class (Person)\n",
    "print()\n",
    "melu.details() #Method from Child class (Employee)\n",
    "print()\n",
    "melu.who() #Method from Parent class (Person"
   ]
  },
  {
   "cell_type": "markdown",
   "metadata": {},
   "source": [
    "### ``super()``"
   ]
  },
  {
   "cell_type": "markdown",
   "metadata": {},
   "source": [
    "The ``super()`` builtin returns a proxy object (temporary object of the superclass) that allows us to access methods of the base class."
   ]
  },
  {
   "cell_type": "code",
   "execution_count": 50,
   "metadata": {},
   "outputs": [
    {
     "name": "stdout",
     "output_type": "stream",
     "text": [
      "Animal Type: Mammal\n",
      "Mammals give birth directly\n",
      "Animal Type: Fishes\n",
      "Fishes give birth by laying eggs\n"
     ]
    }
   ],
   "source": [
    "class Animal(object):\n",
    "  def __init__(self, animal_type):\n",
    "    print('Animal Type:', animal_type)\n",
    "    \n",
    "class Mammal(Animal):\n",
    "  def __init__(self):\n",
    "    super().__init__('Mammal') # call superclass\n",
    "    print('Mammals give birth directly')\n",
    "\n",
    "class Fishes(Animal):\n",
    "  def __init__(self):\n",
    "    super().__init__('Fishes') # call superclass\n",
    "    print('Fishes give birth by laying eggs')\n",
    "    \n",
    "dog = Mammal()\n",
    "shark = Fishes()"
   ]
  }
 ],
 "metadata": {
  "kernelspec": {
   "display_name": "Python 3",
   "language": "python",
   "name": "python3"
  },
  "language_info": {
   "codemirror_mode": {
    "name": "ipython",
    "version": 3
   },
   "file_extension": ".py",
   "mimetype": "text/x-python",
   "name": "python",
   "nbconvert_exporter": "python",
   "pygments_lexer": "ipython3",
   "version": "3.9.13"
  }
 },
 "nbformat": 4,
 "nbformat_minor": 2
}
